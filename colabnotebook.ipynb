{
 "cells": [
  {
   "cell_type": "markdown",
   "id": "23e2e138-bcc0-4a47-9d04-5649543309c5",
   "metadata": {},
   "source": [
    "## Geemap"
   ]
  },
  {
   "attachments": {},
   "cell_type": "markdown",
   "id": "e18d00c9",
   "metadata": {},
   "source": [
    "[![image](https://colab.research.google.com/assets/colab-badge.svg)](https://colab.research.google.com/drive/1eWVcSRq63OlOAKPWmeVLcpsIqGPvH0uB?usp=sharing)"
   ]
  },
  {
   "cell_type": "code",
   "execution_count": 5,
   "id": "45d707a3-aab7-4c17-842d-f8eb176909f7",
   "metadata": {},
   "outputs": [],
   "source": [
    "import ee\n",
    "import geemap"
   ]
  },
  {
   "cell_type": "code",
   "execution_count": null,
   "id": "35f0f996-7a5d-48b7-abb9-cb1698c60d51",
   "metadata": {},
   "outputs": [],
   "source": [
    "M = geemap.Map()\n",
    "M"
   ]
  }
 ],
 "metadata": {
  "kernelspec": {
   "display_name": "Python 3 (ipykernel)",
   "language": "python",
   "name": "python3"
  },
  "language_info": {
   "codemirror_mode": {
    "name": "ipython",
    "version": 3
   },
   "file_extension": ".py",
   "mimetype": "text/x-python",
   "name": "python",
   "nbconvert_exporter": "python",
   "pygments_lexer": "ipython3",
   "version": "3.10.6"
  }
 },
 "nbformat": 4,
 "nbformat_minor": 5
}
