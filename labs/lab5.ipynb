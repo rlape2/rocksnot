{
  "cells": [
    {
      "attachments": {},
      "cell_type": "markdown",
      "id": "4e70be69",
      "metadata": {
        "id": "4e70be69"
      },
      "source": [
        "# Lab 5\n",
        "\n",
        "[![image](https://colab.research.google.com/assets/colab-badge.svg)](https://colab.research.google.com/github/rlape2/rocksnot/blob/master/docs/labs/lab5.ipynb)\n",
        "\n",
        "## Submission instructions\n",
        "\n",
        "1. Download the notebook from https://geosdemo.gishub.org/labs/lab5\n",
        "2. Complete the lab questions\n",
        "3. Restart Kernel and Run All Cells\n",
        "4. Upload the notebook to your GitHub repository\n",
        "5. Make sure the notebook has an `Open In Colab` badge. Click on the badge to make sure your notebook can be opened in Colab.\n",
        "6. Submit the link to the notebook on your GitHub repository to Canvas"
      ]
    },
    {
      "cell_type": "code",
      "execution_count": null,
      "id": "8de60915",
      "metadata": {
        "id": "8de60915"
      },
      "outputs": [],
      "source": [
        "from datetime import datetime\n",
        "\n",
        "now = datetime.now()\n",
        "print(f\"Submitted time: {now}\")"
      ]
    },
    {
      "cell_type": "markdown",
      "id": "a526d1ff",
      "metadata": {
        "id": "a526d1ff"
      },
      "source": [
        "## Question 1\n",
        "\n",
        "**Person:** Use a dictionary to store information about a person you know. Store their first name, last name, age, and the city in which they live. You should have keys such as first_name, last_name, age, and city. Print each piece of information stored in your dictionary."
      ]
    },
    {
      "cell_type": "code",
      "execution_count": 3,
      "id": "060bd962",
      "metadata": {
        "colab": {
          "base_uri": "https://localhost:8080/"
        },
        "id": "060bd962",
        "outputId": "1d2fd640-97a0-40c5-c90c-661aec4782f8"
      },
      "outputs": [
        {
          "name": "stdout",
          "output_type": "stream",
          "text": [
            "{'first_name': 'Robby', 'Last_name': 'Lape', 'age': '21', 'city': 'Franklin'}\n"
          ]
        }
      ],
      "source": [
        "person_0 = {'first_name': 'Robby' , 'Last_name': 'Lape' , 'age': '21' , 'city': 'Franklin'}\n",
        "print(person_0)\n"
      ]
    },
    {
      "cell_type": "markdown",
      "id": "32bb120e",
      "metadata": {
        "id": "32bb120e"
      },
      "source": [
        "## Question 2\n",
        "\n",
        "**Favorite Numbers:** Use a dictionary to store people’s favorite numbers. Think of five names, and use them as keys in your dictionary. Think of a favorite number for each person, and store each as a value in your dictionary. Print each person’s name and their favorite number. For even more fun, poll a few friends and get some actual data for your program."
      ]
    },
    {
      "cell_type": "code",
      "execution_count": 5,
      "id": "37115a33",
      "metadata": {
        "colab": {
          "base_uri": "https://localhost:8080/"
        },
        "id": "37115a33",
        "outputId": "c1bf1caa-b326-4ecd-e5a3-39f734a9e1b8"
      },
      "outputs": [
        {
          "name": "stdout",
          "output_type": "stream",
          "text": [
            "{'will': '77', 'robby': '9', 'matt': '63', 'bass': '30'}\n",
            "Will's favorite number is 77.\n"
          ]
        }
      ],
      "source": [
        "favorite_numbers = {\n",
        "    'will': '77',\n",
        "    'robby': '9',\n",
        "    'matt': '63',\n",
        "    'bass': '30',\n",
        "}\n",
        "print(favorite_numbers)\n",
        "number = favorite_numbers['will']\n",
        "print(f\"Will's favorite number is {number}.\")"
      ]
    },
    {
      "cell_type": "markdown",
      "id": "eb31ca53",
      "metadata": {
        "id": "eb31ca53"
      },
      "source": [
        "## Question 3\n",
        "\n",
        "**Glossary:** A Python dictionary can be used to model an actual dictionary. However, to avoid confusion, let’s call it a glossary.\n",
        "\n",
        "- Think of five programming words you’ve learned about in the previous chapters. Use these words as the keys in your glossary, and store their meanings as values.\n",
        "- Print each word and its meaning as neatly formatted output. You might print the word followed by a colon and then its meaning, or print the word on one line and then print its meaning indented on a second line. Use the newline character (\\n) to insert a blank line between each word-meaning pair in your output."
      ]
    },
    {
      "cell_type": "code",
      "execution_count": 11,
      "id": "7bdd7f86",
      "metadata": {
        "colab": {
          "base_uri": "https://localhost:8080/"
        },
        "id": "7bdd7f86",
        "outputId": "650a9a2d-31cc-4b3f-989d-c384c7d6db95"
      },
      "outputs": [
        {
          "name": "stdout",
          "output_type": "stream",
          "text": [
            "\n",
            "print\n",
            "\tDefinition: a statement that displays the code you have written\n",
            "\n",
            "dictionary\n",
            "\tDefinition: can be used to store information in key value pairs\n",
            "\n",
            "list\n",
            "\tDefinition: store multiple items in a single variable\n",
            "\n",
            "if\n",
            "\tDefinition: decides whether certain statements need to be executed or not\n",
            "\n",
            "loop\n",
            "\tDefinition: repeating something over and over until a particular condition is satisfied\n"
          ]
        }
      ],
      "source": [
        "glossary = {}\n",
        "glossary['print'] = 'a statement that displays the code you have written'\n",
        "glossary['dictionary'] = 'can be used to store information in key value pairs'\n",
        "glossary['list'] = 'store multiple items in a single variable'\n",
        "glossary['if'] = 'decides whether certain statements need to be executed or not'\n",
        "glossary['loop'] = 'repeating something over and over until a particular condition is satisfied'\n",
        "\n",
        "for key, value in glossary.items():\n",
        "  print(f\"\\n{key}\")\n",
        "  print(f\"\\tDefinition: {value}\")"
      ]
    },
    {
      "cell_type": "markdown",
      "id": "9bdb2d85",
      "metadata": {
        "id": "9bdb2d85"
      },
      "source": [
        "## Question 4\n",
        "\n",
        "**Glossary 2:** Now that you know how to loop through a dictionary, clean up the code from Question 3 by replacing your series of print() calls with a loop that runs through the dictionary’s keys and values. When you’re sure that your loop works, add five more Python terms to your glossary. When you run your program again, these new words and meanings should automatically be included in the output."
      ]
    },
    {
      "cell_type": "code",
      "execution_count": 1,
      "id": "018d37ff",
      "metadata": {
        "id": "018d37ff"
      },
      "outputs": [
        {
          "name": "stdout",
          "output_type": "stream",
          "text": [
            "\n",
            "print\n",
            "\tDefinition: a statement that displays the code you have written\n",
            "\n",
            "dictionary\n",
            "\tDefinition: can be used to store information in key value pairs\n",
            "\n",
            "list\n",
            "\tDefinition: store multiple items in a single variable\n",
            "\n",
            "if\n",
            "\tDefinition: decides whether certain statements need to be executed or not\n",
            "\n",
            "loop\n",
            "\tDefinition: repeating something over and over until a particular condition is satisfied\n",
            "\n",
            "argument\n",
            "\tDefinition: a value you pass to a function\n",
            "\n",
            "attribute\n",
            "\tDefinition: a value that an object holds\n",
            "\n",
            "append\n",
            "\tDefinition: adds a single item to an existing list\n",
            "\n",
            "insert\n",
            "\tDefinition: inserts an element into a list at a specified index\n",
            "\n",
            "popped\n",
            "\tDefinition: removes an item at the given index from a list\n"
          ]
        }
      ],
      "source": [
        "glossary = {}\n",
        "glossary['print'] = 'a statement that displays the code you have written'\n",
        "glossary['dictionary'] = 'can be used to store information in key value pairs'\n",
        "glossary['list'] = 'store multiple items in a single variable'\n",
        "glossary['if'] = 'decides whether certain statements need to be executed or not'\n",
        "glossary['loop'] = 'repeating something over and over until a particular condition is satisfied'\n",
        "glossary['argument'] = 'a value you pass to a function'\n",
        "glossary['attribute'] = 'a value that an object holds'\n",
        "glossary['append'] = 'adds a single item to an existing list'\n",
        "glossary['insert'] = 'inserts an element into a list at a specified index'\n",
        "glossary['popped'] = 'removes an item at the given index from a list'\n",
        "\n",
        "for key, value in glossary.items():\n",
        "  print(f\"\\n{key}\")\n",
        "  print(f\"\\tDefinition: {value}\")"
      ]
    },
    {
      "cell_type": "markdown",
      "id": "375356d5",
      "metadata": {
        "id": "375356d5"
      },
      "source": [
        "## Question 5\n",
        "\n",
        "**Rivers:** Make a dictionary containing three major rivers and the country each river runs through. One key-value pair might be 'nile': 'egypt'.\n",
        "\n",
        "- Use a loop to print a sentence about each river, such as _The Nile runs through Egypt._\n",
        "- Use a loop to print the name of each river included in the dictionary.\n",
        "- Use a loop to print the name of each country included in the dictionary."
      ]
    },
    {
      "cell_type": "code",
      "execution_count": 2,
      "id": "2fd7b758",
      "metadata": {
        "id": "2fd7b758"
      },
      "outputs": [
        {
          "name": "stdout",
          "output_type": "stream",
          "text": [
            "{'Tennessee': 'United States', 'Danube': 'Germany', 'Volga': 'Russia'}\n",
            "\n",
            "\n",
            "The Tennessee runs through United States.\n",
            "The Danube runs through Germany.\n",
            "The Volga runs through Russia.\n",
            "\n",
            "Rivers\n",
            "Tennessee\n",
            "Danube\n",
            "Volga\n",
            "\n",
            "Countries\n",
            "United States\n",
            "Germany\n",
            "Russia\n"
          ]
        }
      ],
      "source": [
        "major_rivers = {\n",
        "    'Tennessee': 'United States',\n",
        "    'Danube': 'Germany',\n",
        "    'Volga': 'Russia',\n",
        "    }\n",
        "print(major_rivers)\n",
        "print('\\n')\n",
        "for river, country in major_rivers.items():\n",
        "    print(\"The \" + river + \" runs through \" + country + \".\")\n",
        "print('\\nRivers')\n",
        "for river, country in major_rivers.items():\n",
        "  print(river)\n",
        "print('\\nCountries')\n",
        "for river, country in major_rivers.items():\n",
        "  print(country)"
      ]
    },
    {
      "cell_type": "markdown",
      "id": "8b0b500d",
      "metadata": {
        "id": "8b0b500d"
      },
      "source": [
        "## Question 6\n",
        "\n",
        "**Cities:** Make a dictionary called `cities`. Use the names of three cities as keys in your dictionary. Create a dictionary of information about each city and include the country that the city is in, its approximate population, and one fact about that city. The keys for each city’s dictionary should be something like `country`, `population`, and `fact`. Print the name of each city and all of the information you have stored about it."
      ]
    },
    {
      "cell_type": "code",
      "execution_count": 3,
      "id": "28a77010",
      "metadata": {
        "id": "28a77010"
      },
      "outputs": [
        {
          "name": "stdout",
          "output_type": "stream",
          "text": [
            "\n",
            "City: London\n",
            "Country: England\n",
            "Population: 8,982,000\n",
            "fact: Over 300 languages are spoken in London\n",
            "\n",
            "City: Knoxville\n",
            "Country: United States\n",
            "Population: 192,648\n",
            "fact: Home of the University of Tennessee\n",
            "\n",
            "City: Mexico City\n",
            "Country: Mexico\n",
            "Population: 8,855,000\n",
            "fact: Capitol of Mexico\n"
          ]
        }
      ],
      "source": [
        "cities = {\n",
        "    'London': {\n",
        "        'country': 'England',\n",
        "        'population': '8,982,000',\n",
        "        'fact': 'Over 300 languages are spoken in London',\n",
        "        },\n",
        "\n",
        "    'Knoxville': {\n",
        "        'country': 'United States',\n",
        "        'population': '192,648',\n",
        "        'fact': 'Home of the University of Tennessee',\n",
        "        },\n",
        "\n",
        "    'Mexico City': {\n",
        "        'country': 'Mexico',\n",
        "        'population': '8,855,000',\n",
        "        'fact': 'Capitol of Mexico',\n",
        "        },\n",
        "\n",
        "    }\n",
        "\n",
        "for city, city_info in cities.items():\n",
        "    print(f\"\\nCity: {city}\")\n",
        "    country = city_info['country']\n",
        "    population = city_info['population']\n",
        "    fact = city_info['fact']\n",
        "    print(f\"Country: {country}\")\n",
        "    print(f\"Population: {population}\")\n",
        "    print(f\"fact: {fact}\")"
      ]
    },
    {
      "cell_type": "markdown",
      "id": "874541d3",
      "metadata": {
        "id": "874541d3"
      },
      "source": [
        "## Question 7\n",
        "\n",
        "**Rental Car:** Write a program that asks the user what kind of rental car they would like. Print a message about that car, such as “Let me see if I can find you a Subaru.”"
      ]
    },
    {
      "cell_type": "code",
      "execution_count": 5,
      "id": "5283628b",
      "metadata": {
        "id": "5283628b"
      },
      "outputs": [
        {
          "name": "stdout",
          "output_type": "stream",
          "text": [
            "\tThe ford is $200 a week\n"
          ]
        }
      ],
      "source": [
        " car = input(\"What kind of car would you like to rent today?\")\n",
        " print(f\"\\tThe {car} is $200 a week\")"
      ]
    },
    {
      "cell_type": "markdown",
      "id": "e03a200a",
      "metadata": {
        "id": "e03a200a"
      },
      "source": [
        "## Question 8\n",
        "\n",
        "**Restaurant Seating:** Write a program that asks the user how many people are in their dinner group. If the answer is more than eight, print a message saying they’ll have to wait for a table. Otherwise, report that their table is ready."
      ]
    },
    {
      "cell_type": "code",
      "execution_count": 6,
      "id": "96167a0f",
      "metadata": {
        "id": "96167a0f"
      },
      "outputs": [
        {
          "name": "stdout",
          "output_type": "stream",
          "text": [
            "You may be seated.\n"
          ]
        }
      ],
      "source": [
        "group = int(input(\"how many people are in your group? \"))\n",
        "if group > 8:\n",
        "  print(\"We do not have a table available at the moment. The wait is about 20 minutes\")\n",
        "else:\n",
        "  print(\"You may be seated.\")"
      ]
    },
    {
      "cell_type": "markdown",
      "id": "a523d8a7",
      "metadata": {
        "id": "a523d8a7"
      },
      "source": [
        "## Question 9\n",
        "\n",
        "**Multiples of Ten:** Ask the user for a number, and then report whether the number is a multiple of 10 or not."
      ]
    },
    {
      "cell_type": "code",
      "execution_count": 7,
      "id": "77c9702e",
      "metadata": {
        "id": "77c9702e"
      },
      "outputs": [
        {
          "name": "stdout",
          "output_type": "stream",
          "text": [
            "not divisible by 10\n"
          ]
        }
      ],
      "source": [
        "number = int(input(\"choose a number. \"))\n",
        "remainder = (number%10)\n",
        "if remainder != 0:\n",
        "  print(\"not divisible by 10\")\n",
        "else:\n",
        "  print(\"This number is divisible by 10!\")"
      ]
    },
    {
      "cell_type": "markdown",
      "id": "de550983",
      "metadata": {
        "id": "de550983"
      },
      "source": [
        "## Question 10\n",
        "\n",
        "**Pizza Toppings:** Write a loop that prompts the user to enter a series of pizza toppings until they enter a 'quit' value. As they enter each topping, print a message saying you’ll add that topping to their pizza."
      ]
    },
    {
      "cell_type": "code",
      "execution_count": 8,
      "id": "11f4d8e4",
      "metadata": {
        "id": "11f4d8e4"
      },
      "outputs": [
        {
          "name": "stdout",
          "output_type": "stream",
          "text": [
            "adding pepperoni to your pizza\n"
          ]
        }
      ],
      "source": [
        "prompt = \"\\nEnter pizza topping:\"\n",
        "prompt += \"\\nEnter 'quit' to end the program. \"\n",
        "\n",
        "active = True\n",
        "while active:\n",
        "     topping = input(prompt)\n",
        "    \n",
        "     if topping == 'quit':\n",
        "         active = False\n",
        "     else:\n",
        "         print(f\"adding {topping} to your pizza\")\n"
      ]
    },
    {
      "cell_type": "markdown",
      "id": "ccfe4831",
      "metadata": {
        "id": "ccfe4831"
      },
      "source": [
        "## Question 11\n",
        "\n",
        "**Message:** Write a function called `display_message()` that prints one sentence telling everyone what you are learning about in this chapter. Call the function, and make sure the message displays correctly."
      ]
    },
    {
      "cell_type": "code",
      "execution_count": 9,
      "id": "7080b52a",
      "metadata": {
        "id": "7080b52a"
      },
      "outputs": [
        {
          "name": "stdout",
          "output_type": "stream",
          "text": [
            "Hello, I am learning about building packages\n"
          ]
        }
      ],
      "source": [
        "def display_message():\n",
        "    print(f\"Hello, I am learning about building packages\")\n",
        "\n",
        "display_message()"
      ]
    },
    {
      "cell_type": "markdown",
      "id": "2b5e23db",
      "metadata": {
        "id": "2b5e23db"
      },
      "source": [
        "## Question 12\n",
        "\n",
        "**Favorite Book:** Write a function called `favorite_book()` that accepts one parameter, title. The function should print a message, such as `One of my favorite books is Alice in Wonderland`. Call the function, making sure to include a book title as an argument in the function call."
      ]
    },
    {
      "cell_type": "code",
      "execution_count": 12,
      "id": "b33bd108",
      "metadata": {
        "id": "b33bd108"
      },
      "outputs": [
        {
          "name": "stdout",
          "output_type": "stream",
          "text": [
            "One of my favorite books is Where The Red Fern Grows!\n"
          ]
        }
      ],
      "source": [
        "def favorite_book(book):\n",
        "    print(f\"One of my favorite books is {book.title()}!\")\n",
        "\n",
        "favorite_book('where the red fern grows')"
      ]
    },
    {
      "cell_type": "markdown",
      "id": "4904419f",
      "metadata": {
        "id": "4904419f"
      },
      "source": [
        "## Question 13\n",
        "\n",
        "**T-Shirt:** Write a function called `make_shirt()` that accepts a size and the text of a message that should be printed on the shirt. The function should print a sentence summarizing the size of the shirt and the message printed on it.\n",
        "\n",
        "Call the function once using positional arguments to make a shirt. Call the function a second time using keyword arguments."
      ]
    },
    {
      "cell_type": "code",
      "execution_count": 13,
      "id": "53d690ca",
      "metadata": {
        "id": "53d690ca"
      },
      "outputs": [
        {
          "name": "stdout",
          "output_type": "stream",
          "text": [
            "My size is XL and the shirt says I Love Fishing.\n"
          ]
        }
      ],
      "source": [
        "def make_shirt(size, message):\n",
        "    print(f\"My size is {size} and the shirt says {message.title()}.\")\n",
        "\n",
        "make_shirt('XL', 'I Love Fishing')"
      ]
    },
    {
      "cell_type": "markdown",
      "id": "c6a6dc4b",
      "metadata": {
        "id": "c6a6dc4b"
      },
      "source": [
        "## Question 14\n",
        "\n",
        "**Large Shirts:** Modify the `make_shirt()` function so that shirts are large by default with a message that reads _I love Python_. Make a large shirt and a medium shirt with the default message, and a shirt of any size with a different message."
      ]
    },
    {
      "cell_type": "code",
      "execution_count": 15,
      "id": "658f7e3f",
      "metadata": {
        "id": "658f7e3f"
      },
      "outputs": [
        {
          "name": "stdout",
          "output_type": "stream",
          "text": [
            "The size is L and the shirt says I Love Python.\n",
            "The size is M and the shirt says I Love Python.\n",
            "The size is XL and the shirt says I Love Fishing.\n"
          ]
        }
      ],
      "source": [
        "def make_shirt(size, message='I Love Python'):\n",
        "    \"\"\"Display information about a shirt.\"\"\"\n",
        "    print(f\"The size is {size} and the shirt says {message.title()}.\")\n",
        "\n",
        "make_shirt('L', )\n",
        "make_shirt('M', )\n",
        "make_shirt('XL', 'I Love fishing')"
      ]
    },
    {
      "cell_type": "markdown",
      "id": "64fd6e85",
      "metadata": {
        "id": "64fd6e85"
      },
      "source": [
        "## Question 15\n",
        "\n",
        "**Cities:** Write a function called `describe_city()` that accepts the name of a city and its country. The function should print a simple sentence, such as `Reykjavik is in Iceland`. Give the parameter for the country a default value. Call your function for three different cities, at least one of which is not in the default country."
      ]
    },
    {
      "cell_type": "code",
      "execution_count": 17,
      "id": "bc493373",
      "metadata": {
        "id": "bc493373"
      },
      "outputs": [
        {
          "name": "stdout",
          "output_type": "stream",
          "text": [
            "Shanghai is in China.\n",
            "Seattle is in United States.\n",
            "London is in England.\n"
          ]
        }
      ],
      "source": [
        "def describe_city(city, country='united states'):\n",
        "    print(f\"{city.title()} is in {country.title()}.\")\n",
        "\n",
        "describe_city('shanghai', 'china')\n",
        "describe_city('seattle', )\n",
        "describe_city('london', 'england' )"
      ]
    },
    {
      "cell_type": "markdown",
      "id": "259cdcdc",
      "metadata": {
        "id": "259cdcdc"
      },
      "source": [
        "## Question 16\n",
        "\n",
        "**City Names:** Write a function called `city_country()` that takes in the name of a city and its country. The function should return a string formatted like this:\n",
        "\n",
        "```text\n",
        "Santiago, Chile\n",
        "```\n",
        "\n",
        "Call your function with at least three city-country pairs, and print the values that are returned."
      ]
    },
    {
      "cell_type": "code",
      "execution_count": 18,
      "id": "f1b5b16e",
      "metadata": {
        "id": "f1b5b16e"
      },
      "outputs": [
        {
          "name": "stdout",
          "output_type": "stream",
          "text": [
            "Shanghai is in China.\n",
            "Seattle is in United States.\n",
            "London is in England.\n"
          ]
        }
      ],
      "source": [
        "def describe_city(city, country='united states'):\n",
        "    print(f\"{city.title()} is in {country.title()}.\")\n",
        "\n",
        "describe_city('shanghai', 'china')\n",
        "describe_city('seattle', )\n",
        "describe_city('london', 'england' )"
      ]
    },
    {
      "cell_type": "markdown",
      "id": "491f64a4",
      "metadata": {
        "id": "491f64a4"
      },
      "source": [
        "## Question 17\n",
        "\n",
        "**Album:** Write a function called `make_album()` that builds a dictionary describing a music album. The function should take in an artist name and an album title, and it should return a dictionary containing these two pieces of information. Use the function to make three dictionaries representing different albums. Print each return value to show that the dictionaries are storing the album information correctly.\n",
        "\n",
        "Use None to add an optional parameter to make_album() that allows you to store the number of songs on an album. If the calling line includes a value for the number of songs, add that value to the album’s dictionary. Make at least one new function call that includes the number of songs on an album."
      ]
    },
    {
      "cell_type": "code",
      "execution_count": 19,
      "id": "550b2be6",
      "metadata": {
        "id": "550b2be6"
      },
      "outputs": [
        {
          "name": "stdout",
          "output_type": "stream",
          "text": [
            "{'artist': 'Charley Crockett', 'album': 'The Man From Waco', 'number of songs': 15}\n",
            "{'artist': 'Alan Jackson', 'album': 'Gone Country'}\n",
            "{'artist': 'Kodak Black', 'album': 'Painting Pictures', 'number of songs': 15}\n"
          ]
        }
      ],
      "source": [
        "def make_album(artist_name, album_name, number_of_songs=None):\n",
        "    \"\"\"Return a dictionary of information about a person.\"\"\"\n",
        "    album = {'artist':artist_name , 'album': album_name}\n",
        "    if number_of_songs:\n",
        "      album ['number of songs']= number_of_songs\n",
        "    return album\n",
        "\n",
        "musician = make_album('Charley Crockett', 'The Man From Waco', 15)\n",
        "print(musician)\n",
        "musician = make_album('Alan Jackson', 'Gone Country')\n",
        "print(musician)\n",
        "musician = make_album('Kodak Black', 'Painting Pictures', 15)\n",
        "print(musician)"
      ]
    },
    {
      "cell_type": "markdown",
      "id": "42f6a72f",
      "metadata": {
        "id": "42f6a72f"
      },
      "source": [
        "## Question 18\n",
        "\n",
        "**User Albums:** Start with your program from Question 17. Write a `while` loop that allows users to enter an album’s artist and title. Once you have that information, call `make_album()` with the user’s input and print the dictionary that’s created. Be sure to include a quit value in the `while` loop."
      ]
    },
    {
      "cell_type": "code",
      "execution_count": 21,
      "id": "2ba9b4ba",
      "metadata": {
        "id": "2ba9b4ba"
      },
      "outputs": [
        {
          "name": "stdout",
          "output_type": "stream",
          "text": [
            "(enter 'q' at any time to quit)\n",
            "{'artist': 'bob dylan', 'album': 'alan jackson'}\n",
            "(enter 'q' at any time to quit)\n",
            "{'artist': 'frank ocean', 'album': 'charley crockett'}\n",
            "(enter 'q' at any time to quit)\n"
          ]
        }
      ],
      "source": [
        "def make_album(artist_name, album_name, number_of_songs=None):\n",
        "    \n",
        "    album = {'artist':artist_name , 'album': album_name}\n",
        "    if number_of_songs:\n",
        "      album ['number of songs']= number_of_songs\n",
        "    return album\n",
        "while True:\n",
        "  print(\"(enter 'q' at any time to quit)\")\n",
        "\n",
        "  artist = input(\"enter artist:\")\n",
        "  if artist == 'q':\n",
        "    break\n",
        "  album = input(\"enter album:\")\n",
        "  if album == 'q':\n",
        "    break\n",
        "  musician = make_album(artist , album)\n",
        "  print(musician)"
      ]
    },
    {
      "cell_type": "markdown",
      "id": "97bab8c2",
      "metadata": {
        "id": "97bab8c2"
      },
      "source": [
        "## Question 19\n",
        "\n",
        "**Messages:** Make a list containing a series of short text messages. Pass the list to a function called `show_messages()`, which prints each text message."
      ]
    },
    {
      "cell_type": "code",
      "execution_count": 22,
      "id": "f8f3ee4e",
      "metadata": {
        "id": "f8f3ee4e"
      },
      "outputs": [
        {
          "name": "stdout",
          "output_type": "stream",
          "text": [
            "Hi!\n",
            "Whats up?\n",
            "brb\n"
          ]
        }
      ],
      "source": [
        "def show_messages(messages):\n",
        "    for message in messages:\n",
        "        print(message)\n",
        "\n",
        "txtmsg = ['Hi!', 'Whats up?', 'brb']\n",
        "show_messages(txtmsg)"
      ]
    },
    {
      "cell_type": "markdown",
      "id": "a8bcea3c",
      "metadata": {
        "id": "a8bcea3c"
      },
      "source": [
        "## Question 20\n",
        "\n",
        "**Sending Messages:** Start with a copy of your program from Question 19. Write a function called `send_messages()` that prints each text message and moves each message to a new list called `sent_messages` as it’s printed. After calling the function, print both of your lists to make sure the messages were moved correctly."
      ]
    },
    {
      "cell_type": "code",
      "execution_count": 23,
      "id": "c5340719",
      "metadata": {
        "id": "c5340719"
      },
      "outputs": [
        {
          "name": "stdout",
          "output_type": "stream",
          "text": [
            "message: omw\n",
            "message: brb\n",
            "message: Hi\n",
            "[]\n",
            "['omw', 'brb', 'Hi']\n"
          ]
        }
      ],
      "source": [
        "def send_messages(txt_messages, sent_messages):\n",
        "    \n",
        "    while txt_messages:\n",
        "        current_message = txt_messages.pop()\n",
        "        print(f\"message: {current_message}\")\n",
        "        sent_messages.append(current_message)\n",
        "txt_messages = ['Hi', 'brb', 'omw']\n",
        "sent_msg = []\n",
        "\n",
        "send_messages(txt_messages, sent_msg)\n",
        "print(txt_messages)\n",
        "print(sent_msg)"
      ]
    },
    {
      "cell_type": "markdown",
      "id": "c98f1dd0",
      "metadata": {
        "id": "c98f1dd0"
      },
      "source": [
        "## Question 21\n",
        "\n",
        "**Learning Python:** Open a blank file in your text editor and write a few lines summarizing what you’ve learned about Python so far. Start each line with the phrase _In Python you can. . .._ Save the file as _learning_python.txt_ in the same directory as your exercises from this chapter. Write a program that reads the file and prints what you wrote three times. Print the contents once by reading in the entire file, once by looping over the file object, and once by storing the lines in a list and then working with them outside the _with_ block."
      ]
    },
    {
      "cell_type": "code",
      "execution_count": 1,
      "id": "cb5da040",
      "metadata": {
        "id": "cb5da040"
      },
      "outputs": [
        {
          "name": "stdout",
          "output_type": "stream",
          "text": [
            "In Python you can do for loops.\n",
            "In Python you can create dictionaries. \n",
            "In Python you can do while loops.\n",
            "In Python you can execute Functions.\n",
            "In Python you can create lists.\n",
            "Python is amazing!\n",
            "\n",
            "\n",
            "\n",
            "\n",
            "\n",
            "\n",
            "In Python you can do for loops.\n",
            "\n",
            "In Python you can create dictionaries. \n",
            "\n",
            "In Python you can do while loops.\n",
            "\n",
            "In Python you can execute Functions.\n",
            "\n",
            "In Python you can create lists.\n",
            "\n",
            "Python is amazing!\n",
            "\n",
            "\n",
            "\n",
            "\n",
            "\n",
            "\n",
            "\n",
            "\n",
            "\n",
            "\n",
            "\n",
            "\n",
            "In Python you can do for loops.\n",
            "In Python you can create dictionaries.\n",
            "In Python you can do while loops.\n",
            "In Python you can execute Functions.\n",
            "In Python you can create lists.\n",
            "Python is amazing!\n",
            "\n",
            "\n",
            "\n",
            "\n",
            "\n"
          ]
        }
      ],
      "source": [
        "with open('Learning_Python.txt') as file_object:\n",
        "    contents = file_object.read()\n",
        "print(contents)\n",
        "\n",
        "with open('Learning_Python.txt') as file_object:\n",
        "    for line in file_object:\n",
        "        print(line)\n",
        "    contents = file_object.read()\n",
        "print(contents)\n",
        "\n",
        "filename = 'Learning_Python.txt'\n",
        "with open(filename) as file_object:\n",
        "    lines = file_object.readlines()\n",
        "\n",
        "for line in lines:\n",
        "    print(line.rstrip())"
      ]
    },
    {
      "cell_type": "markdown",
      "id": "4a1a04ad",
      "metadata": {
        "id": "4a1a04ad"
      },
      "source": [
        "## Question 22\n",
        "\n",
        "**Learning C:** You can use the replace() method to replace any word in a string with a different word. Here’s a quick example showing how to replace 'dog' with 'cat' in a sentence:\n",
        "\n",
        "```text\n",
        "message = \"I really like dogs.\"\n",
        "message.replace('dog', 'cat')\n",
        "'I really like cats.'\n",
        "```\n",
        "\n",
        "Read in each line from the file you just created, _learning_python.txt_, and replace the word _Python_ with the name of another language, such as _C_. Print each modified line to the screen."
      ]
    },
    {
      "cell_type": "code",
      "execution_count": 2,
      "id": "b11b8018",
      "metadata": {
        "id": "b11b8018"
      },
      "outputs": [
        {
          "name": "stdout",
          "output_type": "stream",
          "text": [
            "In R you can do for loops.\n",
            "In R you can create dictionaries.\n",
            "In R you can do while loops.\n",
            "In R you can execute Functions.\n",
            "In R you can create lists.\n",
            "R is amazing!\n",
            "\n",
            "\n",
            "\n",
            "\n",
            "\n"
          ]
        }
      ],
      "source": [
        "filename = 'Learning_Python.txt'\n",
        "\n",
        "with open(filename) as f:\n",
        "    lines = f.readlines()\n",
        "\n",
        "for line in lines:\n",
        "    line = line.rstrip()\n",
        "    print(line.replace('Python', 'R'))"
      ]
    },
    {
      "cell_type": "markdown",
      "id": "0921244a",
      "metadata": {
        "id": "0921244a"
      },
      "source": [
        "## Question 23\n",
        "\n",
        "**Guest:** Write a program that prompts the user for their name. When they respond, write their name to a file called guest.txt."
      ]
    },
    {
      "cell_type": "code",
      "execution_count": 6,
      "id": "340d8f4b",
      "metadata": {
        "id": "340d8f4b"
      },
      "outputs": [],
      "source": [
        "name = input(\"What's your name? \")\n",
        "\n",
        "filename = 'guest.txt'\n",
        "\n",
        "with open(filename, 'w') as f:\n",
        "    f.write(name)"
      ]
    },
    {
      "cell_type": "markdown",
      "id": "24b72b21",
      "metadata": {
        "id": "24b72b21"
      },
      "source": [
        "## Question 24\n",
        "\n",
        "**Guest Book:** Write a while loop that prompts users for their name. When they enter their name, print a greeting to the screen and add a line recording their visit in a file called guest_book.txt. Make sure each entry appears on a new line in the file."
      ]
    },
    {
      "cell_type": "code",
      "execution_count": 7,
      "id": "2326c653",
      "metadata": {
        "id": "2326c653"
      },
      "outputs": [
        {
          "name": "stdout",
          "output_type": "stream",
          "text": [
            "Enter 'done' when you are finished.\n",
            "Hi bobby, you have been added to the guest book.\n"
          ]
        }
      ],
      "source": [
        "filename = 'guest_book.txt'\n",
        "\n",
        "print(\"Enter 'done' when you are finished.\")\n",
        "while True:\n",
        "    name = input(\"\\nWhat is your name? \")\n",
        "    if name == 'done':\n",
        "        break\n",
        "    else:\n",
        "        with open(filename, 'a') as f:\n",
        "            f.write(name + \"\\n\")\n",
        "        print(\"Hi \" + name + \", you have been added to the guest book.\")"
      ]
    },
    {
      "cell_type": "markdown",
      "id": "f3075d32",
      "metadata": {
        "id": "f3075d32"
      },
      "source": [
        "## Question 25\n",
        "\n",
        "**Programming Poll:** Write a while loop that asks people why they like programming. Each time someone enters a reason, add their reason to a file that stores all the responses."
      ]
    },
    {
      "cell_type": "code",
      "execution_count": 8,
      "id": "042dfb04",
      "metadata": {
        "id": "042dfb04"
      },
      "outputs": [],
      "source": [
        "filename = 'programming_poll.txt'\n",
        "\n",
        "responses = []\n",
        "while True:\n",
        "    response = input(\"\\nWhy do you like programming? \")\n",
        "    responses.append(response)\n",
        "\n",
        "    continue_poll = input(\"Would you like to submit another response? (yes/no) \")\n",
        "    if continue_poll != 'yes':\n",
        "        break\n",
        "\n",
        "with open(filename, 'a') as f:\n",
        "    for response in responses:\n",
        "        f.write(response + \"\\n\")"
      ]
    },
    {
      "cell_type": "markdown",
      "id": "ed07a1ca",
      "metadata": {
        "id": "ed07a1ca"
      },
      "source": [
        "## Question 26\n",
        "\n",
        "**Addition:** One common problem when prompting for numerical input occurs when people provide text instead of numbers. When you try to convert the input to an int, you’ll get a ValueError. Write a program that prompts for two numbers. Add them together and print the result. Catch the ValueError if either input value is not a number, and print a friendly error message. Test your program by entering two numbers and then by entering some text instead of a number."
      ]
    },
    {
      "cell_type": "code",
      "execution_count": 5,
      "id": "eaf686f8",
      "metadata": {
        "id": "eaf686f8"
      },
      "outputs": [
        {
          "name": "stdout",
          "output_type": "stream",
          "text": [
            "The sum of 9 and 9 is 18.\n"
          ]
        }
      ],
      "source": [
        "try:\n",
        "    x = input(\"Choose a number: \")\n",
        "    x = int(x)\n",
        "\n",
        "    y = input(\"Choose another number: \")\n",
        "    y = int(y)\n",
        "\n",
        "except ValueError:\n",
        "    print(\"Please, choose a number: \")\n",
        "\n",
        "else:\n",
        "    sum = x + y\n",
        "    print(\"The sum of \" + str(x) + \" and \" + str(y) + \" is \" + str(sum) + \".\")"
      ]
    },
    {
      "cell_type": "markdown",
      "id": "09db5341",
      "metadata": {
        "id": "09db5341"
      },
      "source": [
        "## Question 27\n",
        "\n",
        "**Addition Calculator:** Wrap your code from Question 26 in a while loop so the user can continue entering numbers even if they make a mistake and enter text instead of a number."
      ]
    },
    {
      "cell_type": "code",
      "execution_count": 9,
      "id": "916c769d",
      "metadata": {
        "id": "916c769d"
      },
      "outputs": [
        {
          "name": "stdout",
          "output_type": "stream",
          "text": [
            "Enter 'q' at any time to quit the program.\n",
            "\n",
            "The sum of 9 and 9 is 18.\n",
            "The sum of 9 and 9 is 18.\n"
          ]
        }
      ],
      "source": [
        "print(\"Enter 'q' at any time to quit the program.\\n\")\n",
        "\n",
        "while True:\n",
        "    try:\n",
        "        x = input(\"\\nChoose a number: \")\n",
        "        if x == 'q':\n",
        "            break\n",
        "\n",
        "        x = int(x)\n",
        "\n",
        "        y = input(\"Choose another number: \")\n",
        "        if y == 'q':\n",
        "            break\n",
        "\n",
        "        y = int(y)\n",
        "\n",
        "    except ValueError:\n",
        "        print(\"Please, choose a number: \")\n",
        "\n",
        "    else:\n",
        "        sum = x + y\n",
        "        print(\"The sum of \" + str(x) + \" and \" + str(y) + \" is \" + str(sum) + \".\")"
      ]
    },
    {
      "cell_type": "markdown",
      "id": "288099a9",
      "metadata": {
        "id": "288099a9"
      },
      "source": [
        "## Question 28\n",
        "\n",
        "**Cats and Dogs:** Make two files, _cats.txt_ and _dogs.txt_. Store at least three names of cats in the first file and three names of dogs in the second file. Write a program that tries to read these files and print the contents of the file to the screen. Wrap your code in a `try-except` block to catch the `FileNotFound` error, and print a friendly message if a file is missing. Move one of the files to a different location on your system, and make sure the code in the `except` block executes properly."
      ]
    },
    {
      "cell_type": "code",
      "execution_count": 3,
      "id": "387672f6",
      "metadata": {
        "id": "387672f6"
      },
      "outputs": [
        {
          "name": "stdout",
          "output_type": "stream",
          "text": [
            "\n",
            "Reading file: cats.txt\n",
            "Steve French\n",
            "Gabby\n",
            "Meko\n",
            "\n",
            "\n",
            "Reading file: dogs.txt\n",
            "Mowgli\n",
            "Sandy\n",
            "Sherwood\n",
            "\n"
          ]
        }
      ],
      "source": [
        "filenames = ['cats.txt', 'dogs.txt']\n",
        "\n",
        "for filename in filenames:\n",
        "    print(\"\\nReading file: \" + filename)\n",
        "    try:\n",
        "        with open(filename) as f:\n",
        "            contents = f.read()\n",
        "            print(contents)\n",
        "    except FileNotFoundError:\n",
        "        print(\"  Sorry, I can't find that file.\")"
      ]
    },
    {
      "cell_type": "markdown",
      "id": "e9d28546",
      "metadata": {
        "id": "e9d28546"
      },
      "source": [
        "## Question 29\n",
        "\n",
        "**Silent Cats and Dogs:** Modify your except block in Question 28 to fail silently if either file is missing."
      ]
    },
    {
      "cell_type": "code",
      "execution_count": 4,
      "id": "2b972722",
      "metadata": {
        "id": "2b972722"
      },
      "outputs": [
        {
          "name": "stdout",
          "output_type": "stream",
          "text": [
            "\n",
            "Reading file: cats.txt\n",
            "Steve French\n",
            "Gabby\n",
            "Meko\n",
            "\n",
            "\n",
            "Reading file: dogs.txt\n",
            "Mowgli\n",
            "Sandy\n",
            "Sherwood\n",
            "\n"
          ]
        }
      ],
      "source": [
        "filenames = ['cats.txt', 'dogs.txt']\n",
        "\n",
        "for filename in filenames:\n",
        "    \n",
        "    try:\n",
        "        with open(filename) as f:\n",
        "            contents = f.read()\n",
        "\n",
        "    except FileNotFoundError:\n",
        "        pass\n",
        "\n",
        "    else:\n",
        "        print(\"\\nReading file: \" + filename)\n",
        "        print(contents)"
      ]
    },
    {
      "cell_type": "markdown",
      "id": "241ffab1",
      "metadata": {
        "id": "241ffab1"
      },
      "source": [
        "## Question 30\n",
        "\n",
        "**Common Words:** Visit Project Gutenberg (<https://gutenberg.org/>) and find a few texts you’d like to analyze. Download the text files for these works, or copy the raw text from your browser into a text file on your computer. You can use the `count()` method to find out how many times a word or phrase appears in a string. For example, the following code counts the number of times 'row' appears in a string:"
      ]
    },
    {
      "cell_type": "code",
      "execution_count": null,
      "id": "2a017ac9",
      "metadata": {
        "id": "2a017ac9"
      },
      "outputs": [],
      "source": [
        "line = \"Row, row, row your boat\"\n",
        "line.count('row')"
      ]
    },
    {
      "cell_type": "code",
      "execution_count": null,
      "id": "41707165",
      "metadata": {
        "id": "41707165"
      },
      "outputs": [],
      "source": [
        "line.lower().count('row')"
      ]
    },
    {
      "cell_type": "markdown",
      "id": "5652cc4d",
      "metadata": {
        "id": "5652cc4d"
      },
      "source": [
        "Notice that converting the string to lowercase using lower() catches all appearances of the word you’re looking for, regardless of how it’s formatted.\n",
        "\n",
        "Write a program that reads the files you found at Project Gutenberg and determines how many times the word `the` appears in each text. This will be an approximation because it will also count words such as `then` and `there`. Try counting `the`, with a space in the string, and see how much lower your count is."
      ]
    },
    {
      "cell_type": "code",
      "execution_count": 15,
      "id": "f031e476",
      "metadata": {},
      "outputs": [
        {
          "name": "stdout",
          "output_type": "stream",
          "text": [
            "'the' appears in moby_dick.txt about 19046 times.\n",
            "'the ' appears in moby_dick.txt about 12600 times.\n"
          ]
        }
      ],
      "source": [
        "def count_common_words(filename, word):\n",
        "    try:\n",
        "        with open(filename, encoding='utf-8') as f:\n",
        "            contents = f.read()\n",
        "    except FileNotFoundError:\n",
        "        pass\n",
        "    else:\n",
        "        word_count = contents.count(word)\n",
        "\n",
        "        message = f\"'{word}' appears in {filename} about {word_count} times.\"\n",
        "        print(message)\n",
        "\n",
        "filename = 'moby_dick.txt'\n",
        "count_common_words(filename, 'the')\n",
        "\n",
        "filename = 'moby_dick.txt'\n",
        "count_common_words(filename, 'the ')"
      ]
    }
  ],
  "metadata": {
    "colab": {
      "provenance": []
    },
    "kernelspec": {
      "display_name": "Python 3",
      "language": "python",
      "name": "python3"
    },
    "language_info": {
      "codemirror_mode": {
        "name": "ipython",
        "version": 3
      },
      "file_extension": ".py",
      "mimetype": "text/x-python",
      "name": "python",
      "nbconvert_exporter": "python",
      "pygments_lexer": "ipython3",
      "version": "3.9.15"
    }
  },
  "nbformat": 4,
  "nbformat_minor": 5
}
