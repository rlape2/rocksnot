{
 "cells": [
  {
   "cell_type": "markdown",
   "id": "beb550f5",
   "metadata": {
    "id": "beb550f5"
   },
   "source": [
    "# Lab 4\n",
    "\n",
    "[![image](https://colab.research.google.com/assets/colab-badge.svg)](https://colab.research.google.com/github/giswqs/geosdemo/blob/master/docs/labs/lab4.ipynb)\n",
    "\n",
    "## Submission instructions\n",
    "\n",
    "1. Download the notebook from https://geosdemo.gishub.org/labs/lab4\n",
    "2. Complete the lab questions\n",
    "3. Restart Kernel and Run All Cells\n",
    "4. Upload the notebook to your GitHub repository\n",
    "5. Make sure the notebook has an `Open In Colab` badge. Click on the badge to make sure your notebook can be opened in Colab.\n",
    "6. Submit the link to the notebook on your GitHub repository to Canvas"
   ]
  },
  {
   "cell_type": "code",
   "execution_count": null,
   "id": "bfc1ddc5",
   "metadata": {
    "id": "bfc1ddc5"
   },
   "outputs": [],
   "source": [
    "from datetime import datetime\n",
    "\n",
    "now = datetime.now()\n",
    "print(f\"Submitted time: {now}\")"
   ]
  },
  {
   "cell_type": "markdown",
   "id": "7e96934a",
   "metadata": {
    "id": "7e96934a"
   },
   "source": [
    "## Question 1\n",
    "\n",
    "**Personal Message:** Use a variable to represent a person’s name, and print a message to that person. Your message should be simple, such as, “Hello Eric, would you like to learn some Python today?”"
   ]
  },
  {
   "cell_type": "code",
   "execution_count": 1,
   "id": "063a8cb4",
   "metadata": {
    "id": "063a8cb4"
   },
   "outputs": [
    {
     "name": "stdout",
     "output_type": "stream",
     "text": [
      "Hello Robby, would you like to learn some Python today?\n"
     ]
    }
   ],
   "source": [
    "name = \"Robby\"\n",
    "print(f\"Hello {name}, would you like to learn some Python today?\")"
   ]
  },
  {
   "cell_type": "markdown",
   "id": "83c4c9e9",
   "metadata": {
    "id": "83c4c9e9"
   },
   "source": [
    "## Question 2\n",
    "\n",
    "**Name Cases:** Use a variable to represent a person’s name, and then print that person’s name in lowercase, uppercase, and title case."
   ]
  },
  {
   "cell_type": "code",
   "execution_count": 3,
   "id": "35cfbbec",
   "metadata": {
    "id": "35cfbbec"
   },
   "outputs": [
    {
     "name": "stdout",
     "output_type": "stream",
     "text": [
      "robby\n",
      "ROBBY\n",
      "Robby\n"
     ]
    }
   ],
   "source": [
    "name = \"Robby\"\n",
    "\n",
    "print(name.lower())\n",
    "print(name.upper())\n",
    "print(name.title())"
   ]
  },
  {
   "cell_type": "markdown",
   "id": "8c8e92e4",
   "metadata": {
    "id": "8c8e92e4"
   },
   "source": [
    "## Question 3\n",
    "\n",
    "**Famous Quote:** Find a quote from a famous person you admire. Print the quote and the name of its author. Your output should look something like the following, including the quotation marks:\n",
    "\n",
    "```\n",
    "Albert Einstein once said, “A person who never made a mistake never tried anything new.”\n",
    "```"
   ]
  },
  {
   "cell_type": "code",
   "execution_count": 5,
   "id": "3bed6cb5",
   "metadata": {
    "id": "3bed6cb5"
   },
   "outputs": [
    {
     "name": "stdout",
     "output_type": "stream",
     "text": [
      " Kanye West once said, They wanted to know what I would do if I didnt win...I guess we'll never know\n"
     ]
    }
   ],
   "source": [
    "famous = \"Kanye West\" \n",
    "quote = f\" {famous.title()} once said, They wanted to know what I would do if I didnt win...I guess we'll never know\"\n",
    "print(quote)"
   ]
  },
  {
   "cell_type": "markdown",
   "id": "4b46d366",
   "metadata": {
    "id": "4b46d366"
   },
   "source": [
    "## Question 4\n",
    "\n",
    "**Stripping Names:** Use a variable to represent a person’s name, and include some whitespace characters at the beginning and end of the name. Make sure you use each character combination, \"\\t\" and \"\\n\", at least once.\n",
    "Print the name once, so the whitespace around the name is displayed. Then print the name using each of the three stripping functions, lstrip(), rstrip(), and strip()."
   ]
  },
  {
   "cell_type": "code",
   "execution_count": 11,
   "id": "bb5dbb0f",
   "metadata": {
    "id": "bb5dbb0f"
   },
   "outputs": [
    {
     "name": "stdout",
     "output_type": "stream",
     "text": [
      "Robby   \n",
      "\n",
      "\t\t\t   Robby\n",
      "\n",
      "\tRobby\n"
     ]
    }
   ],
   "source": [
    "name = \"   Robby   \"\n",
    "\n",
    "print(f'{name.lstrip()}')\n",
    "print(f'\\n\\t\\t\\t{name.rstrip()}')\n",
    "print(f'\\n\\t{name.strip()}')"
   ]
  },
  {
   "cell_type": "markdown",
   "id": "32cce0d9",
   "metadata": {
    "id": "32cce0d9"
   },
   "source": [
    "## Question 5\n",
    "\n",
    "**Names:** Store the names of a few of your friends in a list called names. Print\n",
    "each person’s name by accessing each element in the list, one at a time."
   ]
  },
  {
   "cell_type": "code",
   "execution_count": 18,
   "id": "13da6459",
   "metadata": {
    "id": "13da6459"
   },
   "outputs": [
    {
     "name": "stdout",
     "output_type": "stream",
     "text": [
      "Ricky\n",
      "Will\n",
      "Fletcher\n",
      "Aaron\n"
     ]
    }
   ],
   "source": [
    "names = [\"ricky\", \"will\", \"fletcher\", \"aaron\"]\n",
    "\n",
    "print(names[0].title())\n",
    "print(names[1].title())\n",
    "print(names[-2].title())\n",
    "print(names[3].title())\n"
   ]
  },
  {
   "cell_type": "markdown",
   "id": "aaaa5c8f",
   "metadata": {
    "id": "aaaa5c8f"
   },
   "source": [
    "## Question 6\n",
    "\n",
    "**Your Own List:** Think of your favorite mode of transportation, such as a motorcycle or a car, and make a list that stores several examples. Use your list to print a series of statements about these items, such as “I would like to own a Honda motorcycle.”"
   ]
  },
  {
   "cell_type": "code",
   "execution_count": 20,
   "id": "eba0829e",
   "metadata": {
    "id": "eba0829e"
   },
   "outputs": [
    {
     "name": "stdout",
     "output_type": "stream",
     "text": [
      "I would love to own a Jackson kayak.\n",
      "I would love to own a Crescent kayak.\n",
      "I would love to own a Pelican kayak.\n"
     ]
    }
   ],
   "source": [
    "kayaks = [\"jackson\", \"crescent\", \"pelican\"]\n",
    "for kayak in kayaks:\n",
    "    print(f\"I would love to own a {kayak.title()} kayak.\")"
   ]
  },
  {
   "cell_type": "markdown",
   "id": "e4b4452f",
   "metadata": {
    "id": "e4b4452f"
   },
   "source": [
    "## Question 7\n",
    "\n",
    "**Pizzas:** Think of at least three kinds of your favorite pizza. Store these pizza names in a list, and then use a for loop to print the name of each pizza.\n",
    "\n",
    "Modify your for loop to print a sentence using the name of the pizza instead of printing just the name of the pizza. For each pizza you should have one line of output containing a simple statement like _I like pepperoni pizza._"
   ]
  },
  {
   "cell_type": "code",
   "execution_count": 27,
   "id": "37cdb68e",
   "metadata": {
    "id": "37cdb68e"
   },
   "outputs": [
    {
     "name": "stdout",
     "output_type": "stream",
     "text": [
      "I love VEGGIE pizza!\n",
      "I love PEPPERONI pizza!\n",
      "I love HAIWAIIAN pizza!\n",
      "\n",
      "I really love pizza!\n"
     ]
    }
   ],
   "source": [
    "pizzas = [\"veggie\", \"pepperoni\", \"haiwaiian\"]\n",
    "for pizza in pizzas:\n",
    "    print(f\"I love {pizza.upper()} pizza!\")\n",
    "print(\"\\nI really love pizza!\")"
   ]
  },
  {
   "cell_type": "markdown",
   "id": "b3b70e8e",
   "metadata": {
    "id": "b3b70e8e"
   },
   "source": [
    "Add a line at the end of your program, outside the for loop, that states how much you like pizza. The output should consist of three or more lines about the kinds of pizza you like and then an additional sentence, such as _I really love pizza!_"
   ]
  },
  {
   "cell_type": "code",
   "execution_count": null,
   "id": "11b4528c",
   "metadata": {
    "id": "11b4528c"
   },
   "outputs": [],
   "source": []
  },
  {
   "cell_type": "markdown",
   "id": "6e42f992",
   "metadata": {
    "id": "6e42f992"
   },
   "source": [
    "## Question 8\n",
    "\n",
    "**Animals:** Think of at least three different animals that have a common characteristic. Store the names of these animals in a list, and then use a for loop to print out the name of each animal.\n",
    "\n",
    "Modify your program to print a statement about each animal, such as _A dog would make a great pet._"
   ]
  },
  {
   "cell_type": "code",
   "execution_count": 31,
   "id": "7489fb55",
   "metadata": {
    "id": "7489fb55"
   },
   "outputs": [
    {
     "name": "stdout",
     "output_type": "stream",
     "text": [
      "dog\n",
      "A dog would be a great house pet!\n",
      "cat\n",
      "A cat would be a great house pet!\n",
      "fish\n",
      "A fish would be a great house pet!\n",
      "All of these animals would be great pets!\n"
     ]
    }
   ],
   "source": [
    "animals = [\"dog\", \"cat\", \"fish\"]\n",
    "for animal in animals:\n",
    "    print(animal)\n",
    "    print(f\"A {animal} would be a great house pet!\")\n",
    "print(\"All of these animals would be great pets!\")"
   ]
  },
  {
   "cell_type": "markdown",
   "id": "b4484392",
   "metadata": {
    "id": "b4484392"
   },
   "source": [
    "Add a line at the end of your program stating what these animals have in common. You could print a sentence such as _Any of these animals would make a great pet!_"
   ]
  },
  {
   "cell_type": "code",
   "execution_count": null,
   "id": "eb9f8e19",
   "metadata": {
    "id": "eb9f8e19"
   },
   "outputs": [],
   "source": []
  },
  {
   "cell_type": "markdown",
   "id": "ba99ccb5",
   "metadata": {
    "id": "ba99ccb5"
   },
   "source": [
    "## Question 9\n",
    "\n",
    "**Summing a Hundred:** Make a list of the numbers from one to one hundred, and then use `min()` and `max()` to make sure your list actually starts at one and ends at one hundred. Also, use the sum() function to see how quickly Python can add a hundred numbers."
   ]
  },
  {
   "cell_type": "code",
   "execution_count": 40,
   "id": "6c6a27a9",
   "metadata": {
    "id": "6c6a27a9"
   },
   "outputs": [
    {
     "name": "stdout",
     "output_type": "stream",
     "text": [
      "1\n",
      "100\n",
      "5050\n"
     ]
    },
    {
     "data": {
      "text/plain": [
       "(1, 100, 5050)"
      ]
     },
     "execution_count": 40,
     "metadata": {},
     "output_type": "execute_result"
    }
   ],
   "source": [
    "numbers = list(range(1, 101))\n",
    "print(min(numbers))\n",
    "print(max(numbers))\n",
    "print(sum(numbers))\n",
    "\n",
    "min(numbers), max(numbers), sum(numbers)"
   ]
  },
  {
   "cell_type": "markdown",
   "id": "d165cd3c",
   "metadata": {
    "id": "d165cd3c"
   },
   "source": [
    "## Question 10\n",
    "\n",
    "**Odd Numbers:** Use the third argument of the `range()` function to make a list of the odd numbers from 1 to 20. Use a `for` loop to print each number."
   ]
  },
  {
   "cell_type": "code",
   "execution_count": 41,
   "id": "d276920a",
   "metadata": {
    "id": "d276920a"
   },
   "outputs": [
    {
     "name": "stdout",
     "output_type": "stream",
     "text": [
      "1\n",
      "3\n",
      "5\n",
      "7\n",
      "9\n",
      "11\n",
      "13\n",
      "15\n",
      "17\n",
      "19\n"
     ]
    }
   ],
   "source": [
    "odd = list(range(1,20,2)) \n",
    "for oddnumber in odd:\n",
    "    print(oddnumber)"
   ]
  },
  {
   "cell_type": "markdown",
   "id": "9e49d9eb",
   "metadata": {
    "id": "9e49d9eb"
   },
   "source": [
    "## Question 11\n",
    "\n",
    "**Threes:** Make a list of the multiples of 3 from 3 to 30. Use a `for` loop to print the numbers in your list."
   ]
  },
  {
   "cell_type": "code",
   "execution_count": 42,
   "id": "4ff24fc6",
   "metadata": {
    "id": "4ff24fc6"
   },
   "outputs": [
    {
     "name": "stdout",
     "output_type": "stream",
     "text": [
      "3\n",
      "6\n",
      "9\n",
      "12\n",
      "15\n",
      "18\n",
      "21\n",
      "24\n",
      "27\n",
      "30\n"
     ]
    }
   ],
   "source": [
    "multiples = list(range(3,31,3))\n",
    "for multiple in multiples:\n",
    "    print(multiple)"
   ]
  },
  {
   "cell_type": "markdown",
   "id": "dbcce457",
   "metadata": {
    "id": "dbcce457"
   },
   "source": [
    "## Question 12\n",
    "\n",
    "**Cube Comprehension:** Use a list comprehension to generate a list of the first 10 cubes."
   ]
  },
  {
   "cell_type": "code",
   "execution_count": 43,
   "id": "df0901f8",
   "metadata": {
    "id": "df0901f8"
   },
   "outputs": [
    {
     "name": "stdout",
     "output_type": "stream",
     "text": [
      "[1, 8, 27, 64, 125, 216, 343, 512, 729, 1000]\n"
     ]
    }
   ],
   "source": [
    "cubes = [value**3 for value in range(1, 11)]\n",
    "print(cubes)"
   ]
  },
  {
   "cell_type": "markdown",
   "id": "c6946e7b",
   "metadata": {
    "id": "c6946e7b"
   },
   "source": [
    "## Question 13\n",
    "\n",
    "**Slices:** Using one of the programs you wrote in this lab, add several lines to the end of the program that do the following:\n",
    "\n",
    "Print the message _The first three items in the list are:_. Then use a slice to print the first three items from that program’s list."
   ]
  },
  {
   "cell_type": "code",
   "execution_count": 44,
   "id": "0e03e488",
   "metadata": {
    "id": "0e03e488"
   },
   "outputs": [
    {
     "name": "stdout",
     "output_type": "stream",
     "text": [
      "The first three names on the list are:\n",
      "Ricky\n",
      "Will\n",
      "Fletcher\n"
     ]
    }
   ],
   "source": [
    "names = [\"ricky\", \"will\", \"fletcher\", \"aaron\"]\n",
    "print(\"The first three names on the list are:\")\n",
    "for name in names[:3]:\n",
    "    print(name.title())"
   ]
  },
  {
   "cell_type": "markdown",
   "id": "6f88722c",
   "metadata": {
    "id": "6f88722c"
   },
   "source": [
    "Print the message _Three items from the middle of the list are:_. Use a slice to print three items from the middle of the list."
   ]
  },
  {
   "cell_type": "code",
   "execution_count": 46,
   "id": "6859a061",
   "metadata": {
    "id": "6859a061"
   },
   "outputs": [
    {
     "name": "stdout",
     "output_type": "stream",
     "text": [
      "The middle three names on the list are:\n",
      "Will\n",
      "Fletcher\n",
      "Aaron\n"
     ]
    }
   ],
   "source": [
    "names = [\"ricky\", \"will\", \"fletcher\", \"aaron\", \"davis\"]\n",
    "print(\"The middle three names on the list are:\")\n",
    "for name in names[1:4]:\n",
    "    print(name.title())"
   ]
  },
  {
   "cell_type": "markdown",
   "id": "0abc8cec",
   "metadata": {
    "id": "0abc8cec"
   },
   "source": [
    "Print the message _The last three items in the list are:_. Use a slice to print the last three items in the list."
   ]
  },
  {
   "cell_type": "code",
   "execution_count": 49,
   "id": "64988cac",
   "metadata": {
    "id": "64988cac"
   },
   "outputs": [
    {
     "name": "stdout",
     "output_type": "stream",
     "text": [
      "The last three names on the list are:\n",
      "Will\n",
      "Fletcher\n",
      "Aaron\n"
     ]
    }
   ],
   "source": [
    "names = [\"ricky\", \"will\", \"fletcher\", \"aaron\"]\n",
    "print(\"The last three names on the list are:\")\n",
    "for name in names[1:]:\n",
    "    print(name.title())"
   ]
  },
  {
   "cell_type": "markdown",
   "id": "36876b9d",
   "metadata": {
    "id": "36876b9d"
   },
   "source": [
    "## Question 14\n",
    "\n",
    "**Buffet:** A buffet-style restaurant offers only five basic foods. Think of five simple foods, and store them in a tuple.\n",
    "\n",
    "Use a for loop to print each food the restaurant offers."
   ]
  },
  {
   "cell_type": "code",
   "execution_count": 55,
   "id": "6f186d8a",
   "metadata": {
    "id": "6f186d8a"
   },
   "outputs": [
    {
     "name": "stdout",
     "output_type": "stream",
     "text": [
      "Menu:\n",
      "\n",
      "Orange Chicken\n",
      "Kung Pao Shrimp\n",
      "Spring Rolls\n",
      "Sweet And Sour Chicken\n",
      "Chow Mein\n",
      "\n",
      "New Menu:\n",
      "\n",
      "Orange Chicken\n",
      "Kung Pao Chicken\n",
      "Egg Rolls\n",
      "Sweet And Sour Chicken\n",
      "Chow Mein\n"
     ]
    }
   ],
   "source": [
    "buffet = ('orange chicken', 'kung pao shrimp', 'spring rolls', 'sweet and sour chicken', 'chow mein')\n",
    "print(\"Menu:\\n\")\n",
    "for food in buffet:\n",
    "  print(food.title())\n",
    "\n",
    "buffet = ('orange chicken', 'kung pao chicken', 'egg rolls', 'sweet and sour chicken', 'chow mein')\n",
    "print(\"\\nNew Menu:\\n\")\n",
    "for food in buffet:\n",
    "  print(food.title())"
   ]
  },
  {
   "cell_type": "markdown",
   "id": "0a6ba7f3",
   "metadata": {
    "id": "0a6ba7f3"
   },
   "source": [
    "The restaurant changes its menu, replacing two of the items with different foods. Add a line that rewrites the tuple, and then use a for loop to print each of the items on the revised menu."
   ]
  },
  {
   "cell_type": "code",
   "execution_count": null,
   "id": "79b11cbc",
   "metadata": {
    "id": "79b11cbc"
   },
   "outputs": [],
   "source": []
  },
  {
   "cell_type": "markdown",
   "id": "337ac27d",
   "metadata": {
    "id": "337ac27d"
   },
   "source": [
    "## Question 15\n",
    "\n",
    "**Alien Colors:** Imagine an alien was just shot down in a game. Create a variable called `alien_color` and assign it a value of `green, yellow,` or `red`.\n",
    "\n",
    "-   Write an if statement to test whether the alien’s color is green. If it is, print a message that the player just earned 5 points.\n",
    "-   Write one version of this program that passes the if test and another that fails. (The version that fails will have no output.)"
   ]
  },
  {
   "cell_type": "code",
   "execution_count": 58,
   "id": "cc3198fa",
   "metadata": {
    "id": "cc3198fa"
   },
   "outputs": [
    {
     "name": "stdout",
     "output_type": "stream",
     "text": [
      "You earn 5 points!\n"
     ]
    }
   ],
   "source": [
    "alien_color = 'green'\n",
    "if alien_color == 'green':\n",
    "    print(\"You earn 5 points!\")\n",
    "\n",
    "alien_color = 'red'\n",
    "if alien_color == 'green':\n",
    "    print(\"You earn 5 points!\")"
   ]
  },
  {
   "cell_type": "markdown",
   "id": "57465bab",
   "metadata": {
    "id": "57465bab"
   },
   "source": [
    "## Question 16\n",
    "\n",
    "**Stages of Life:** Write an `if-elif-else` chain that determines a person’s stage of life. Set a value for the variable `age`, and then:\n",
    "\n",
    "-   If the person is less than 2 years old, print a message that the person is a baby.\n",
    "-   If the person is at least 2 years old but less than 4, print a message that the person is a toddler.\n",
    "-   If the person is at least 4 years old but less than 13, print a message that the person is a kid.\n",
    "-   If the person is at least 13 years old but less than 20, print a message that the person is a teenager.\n",
    "-   If the person is at least 20 years old but less than 65, print a message that the person is an adult."
   ]
  },
  {
   "cell_type": "code",
   "execution_count": 60,
   "id": "b09c364a",
   "metadata": {
    "id": "b09c364a"
   },
   "outputs": [
    {
     "name": "stdout",
     "output_type": "stream",
     "text": [
      "19 = teenager\n"
     ]
    }
   ],
   "source": [
    "age = 19\n",
    "\n",
    "if age < 2:\n",
    "    lifestage = \"baby\"\n",
    "elif age < 4:\n",
    "    lifestage = \"toddler\"\n",
    "elif age < 13:\n",
    "    lifestage = \"kid\"\n",
    "elif age < 20:\n",
    "    lifestage = \"teenager\"\n",
    "elif age < 65:\n",
    "    lifestage = \"adult\"\n",
    "    \n",
    "print(str(age) + \" = \" + lifestage)"
   ]
  },
  {
   "cell_type": "markdown",
   "id": "96b3da06",
   "metadata": {
    "id": "96b3da06"
   },
   "source": [
    "## Question 17\n",
    "\n",
    "**Favorite Fruit:** Make a list of your favorite fruits, and then write a series of independent `if` statements that check for certain fruits in your list.\n",
    "\n",
    "-   Make a list of your three favorite fruits and call it favorite_fruits.\n",
    "-   Write five if statements. Each should check whether a certain kind of fruit is in your list. If the fruit is in your list, the if block should print a statement, such as You really like bananas!"
   ]
  },
  {
   "cell_type": "code",
   "execution_count": 64,
   "id": "fc58635c",
   "metadata": {
    "id": "fc58635c"
   },
   "outputs": [
    {
     "name": "stdout",
     "output_type": "stream",
     "text": [
      "\n",
      "\n",
      "strawberries are red\n",
      "grapes are bad for dogs\n",
      "pineapple can make your mouth sore\n"
     ]
    }
   ],
   "source": [
    "favorite_fruits = ['strawberry', 'grape', 'pineapple']\n",
    "print(\"\\n\")\n",
    "for fruit in favorite_fruits:\n",
    "    if fruit == 'strawberry':\n",
    "        print(\"strawberries are red\")\n",
    "    if fruit == 'blueberry':\n",
    "        print(\"blueberries are small\")\n",
    "    if fruit == 'grape':\n",
    "        print(\"grapes are bad for dogs\")\n",
    "    if fruit == 'pineapple':\n",
    "        print(\"pineapple can make your mouth sore\")\n",
    "    if fruit == 'kiwi':\n",
    "        print(\"kiwi is hairy\")"
   ]
  },
  {
   "cell_type": "markdown",
   "id": "71e4c6f1",
   "metadata": {
    "id": "71e4c6f1"
   },
   "source": [
    "## Question 18\n",
    "\n",
    "**Hello Admin:** Make a list of five or more usernames, including the name `admin`. Imagine you are writing code that will print a greeting to each user after they log in to a website. Loop through the list, and print a greeting to each user:\n",
    "\n",
    "-   If the username is 'admin', print a special greeting, such as _Hello admin, would you like to see a status report?_\n",
    "-   Otherwise, print a generic greeting, such as _Hello Jaden, thank you for logging in again_."
   ]
  },
  {
   "cell_type": "code",
   "execution_count": 69,
   "id": "651e8bf2",
   "metadata": {
    "id": "651e8bf2"
   },
   "outputs": [
    {
     "name": "stdout",
     "output_type": "stream",
     "text": [
      "\n",
      "\n",
      "Good Morning, master admin.\n",
      "\n",
      "\tHello, robtheblob28 welcome back!\n",
      "\n",
      "\tHello, gummycouch welcome back!\n",
      "\n",
      "\tHello, noseboy welcome back!\n",
      "\n",
      "\tHello, aarondesmond19 welcome back!\n",
      "\n"
     ]
    }
   ],
   "source": [
    "usernames = ['admin', 'robtheblob28', 'gummycouch', 'noseboy', 'aarondesmond19']\n",
    "print(\"\\n\")\n",
    "for username in usernames:\n",
    "    if username == 'admin':\n",
    "        print(\"Good Morning, master admin.\\n\")\n",
    "    else:\n",
    "        print(\"\\tHello, \" + username + \" welcome back!\\n\")"
   ]
  },
  {
   "cell_type": "markdown",
   "id": "fd53a583",
   "metadata": {
    "id": "fd53a583"
   },
   "source": [
    "## Question 19\n",
    "\n",
    "**Checking Usernames:** Do the following to create a program that simulates how websites ensure that everyone has a unique username.\n",
    "\n",
    "-   Make a list of five or more usernames called `current_users`.\n",
    "-   Make another list of five usernames called `new_users`. Make sure one or two of the new usernames are also in the `current_users` list.\n",
    "-   Loop through the `new_users` list to see if each new username has already been used. If it has, print a message that the person will need to enter a new username. If a username has not been used, print a message saying that the username is available.\n",
    "-   Make sure your comparison is case insensitive. If 'John' has been used, 'JOHN' should not be accepted. (To do this, you’ll need to make a copy of `current_users` containing the lowercase versions of all existing users.)"
   ]
  },
  {
   "cell_type": "code",
   "execution_count": 73,
   "id": "9f1a4a8d",
   "metadata": {
    "id": "9f1a4a8d"
   },
   "outputs": [
    {
     "name": "stdout",
     "output_type": "stream",
     "text": [
      "\n",
      "\n",
      "admin This username is taken!\n",
      "\n",
      "robtheblob28 This username is taken!\n",
      "\n",
      "avocado this username is available.\n",
      "\n",
      "pineapple this username is available.\n",
      "\n",
      "aarondesmond19 This username is taken!\n",
      "\n"
     ]
    }
   ],
   "source": [
    "usernames = ['admin', 'robtheblob28', 'gummycouch', 'noseboy', 'aarondesmond19']\n",
    "newusers = ['admin', 'robtheblob28', 'avocado', 'pineapple', 'aarondesmond19']\n",
    "print(\"\\n\")\n",
    "for newuser in newusers:\n",
    "    if newuser in usernames:\n",
    "        print(newuser + \" This username is taken!\\n\")\n",
    "    else:\n",
    "        print(newuser + \" this username is available.\\n\")"
   ]
  },
  {
   "cell_type": "markdown",
   "id": "20f8412b",
   "metadata": {
    "id": "20f8412b"
   },
   "source": [
    "## Question 20\n",
    "\n",
    "**Ordinal Numbers:** Ordinal numbers indicate their position in a list, such as _1st_ or _2nd_. Most ordinal numbers end in _th_, except 1, 2, and 3.\n",
    "\n",
    "-   Store the numbers 1 through 9 in a list.\n",
    "-   Loop through the list.\n",
    "-   Use an `if-elif-else` chain inside the loop to print the proper ordinal ending for each number. Your output should read \"1st 2nd 3rd 4th 5th 6th 7th 8th 9th\", and each result should be on a separate line."
   ]
  },
  {
   "cell_type": "code",
   "execution_count": 74,
   "id": "6231e1e4",
   "metadata": {
    "id": "6231e1e4"
   },
   "outputs": [
    {
     "name": "stdout",
     "output_type": "stream",
     "text": [
      "1st\n",
      "2nd\n",
      "3rd\n",
      "4th\n",
      "5th\n",
      "6th\n",
      "7th\n",
      "8th\n",
      "9th\n"
     ]
    }
   ],
   "source": [
    "numbers = [1, 2, 3, 4, 5, 6, 7, 8, 9]\n",
    "for number in numbers:\n",
    "    if number == 1:\n",
    "        print(\"1st\")\n",
    "    elif number == 2:\n",
    "        print(\"2nd\")\n",
    "    elif number == 3:\n",
    "        print(\"3rd\")\n",
    "    else:\n",
    "        print(str(number) + \"th\")"
   ]
  },
  {
   "cell_type": "code",
   "execution_count": null,
   "id": "2d30553b-2899-49ab-b994-757aef4ccefd",
   "metadata": {},
   "outputs": [],
   "source": []
  }
 ],
 "metadata": {
  "colab": {
   "provenance": []
  },
  "kernelspec": {
   "display_name": "Python 3",
   "language": "python",
   "name": "python3"
  },
  "language_info": {
   "codemirror_mode": {
    "name": "ipython",
    "version": 3
   },
   "file_extension": ".py",
   "mimetype": "text/x-python",
   "name": "python",
   "nbconvert_exporter": "python",
   "pygments_lexer": "ipython3",
   "version": "3.9.6"
  },
  "vscode": {
   "interpreter": {
    "hash": "aee8b7b246df8f9039afb4144a1f6fd8d2ca17a180786b69acc140d282b71a49"
   }
  }
 },
 "nbformat": 4,
 "nbformat_minor": 5
}
